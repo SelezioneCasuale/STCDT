{
 "metadata": {
  "name": "",
  "signature": "sha256:feb7bbad85f349bc47904e87213ed56d81c57bbaecb66c10f321b27456ee31bc"
 },
 "nbformat": 3,
 "nbformat_minor": 0,
 "worksheets": []
}