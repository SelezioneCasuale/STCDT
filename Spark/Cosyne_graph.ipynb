{
 "metadata": {
  "name": "",
  "signature": "sha256:753047f81085ce64c4271cfb7d7960ac649efccb1b57dac805460c6132d4c480"
 },
 "nbformat": 3,
 "nbformat_minor": 0,
 "worksheets": [
  {
   "cells": [
    {
     "cell_type": "markdown",
     "metadata": {},
     "source": [
      "# Cosyne_graph\n",
      "## some code to cluster and plot the Cosyne conference co-authorship graph"
     ]
    },
    {
     "cell_type": "code",
     "collapsed": false,
     "input": [
      "# Import those pesky python libraries\n",
      "from numpy import random, asarray, sqrt, arctan2, pi, clip, corrcoef, load\n",
      "from seaborn import color_palette\n",
      "from sklearn import datasets\n",
      "from colorsys import hsv_to_rgb\n",
      "import scipy.io as sio"
     ],
     "language": "python",
     "metadata": {},
     "outputs": [],
     "prompt_number": 1
    },
    {
     "cell_type": "code",
     "collapsed": false,
     "input": [
      "from lightning import Lightning\n",
      "host = 'http://localhost:3000'\n",
      "# Make sure the postgres app is running, and that you've run 'npm start' in the lightning directory\n",
      "lgn = Lightning(ipython=True,host=host) # ipython=True allows inline plots"
     ],
     "language": "python",
     "metadata": {},
     "outputs": [],
     "prompt_number": 2
    },
    {
     "cell_type": "code",
     "collapsed": false,
     "input": [
      "lgn.create_session('cosyne graph')"
     ],
     "language": "python",
     "metadata": {},
     "outputs": [
      {
       "metadata": {},
       "output_type": "pyout",
       "prompt_number": 3,
       "text": [
        "Session number: 9, name: cosyne graph"
       ]
      }
     ],
     "prompt_number": 3
    },
    {
     "cell_type": "code",
     "collapsed": false,
     "input": [
      "CG = sio.loadmat('cosyneFinalData.mat')"
     ],
     "language": "python",
     "metadata": {},
     "outputs": [],
     "prompt_number": 4
    },
    {
     "cell_type": "code",
     "collapsed": false,
     "input": [
      "c_mat = CG['adjMatrix']"
     ],
     "language": "python",
     "metadata": {},
     "outputs": [],
     "prompt_number": 5
    },
    {
     "cell_type": "code",
     "collapsed": false,
     "input": [
      "lgn.c_mat"
     ],
     "language": "python",
     "metadata": {},
     "outputs": [
      {
       "ename": "AttributeError",
       "evalue": "'Lightning' object has no attribute 'c_mat'",
       "output_type": "pyerr",
       "traceback": [
        "\u001b[0;31m---------------------------------------------------------------------------\u001b[0m\n\u001b[0;31mAttributeError\u001b[0m                            Traceback (most recent call last)",
        "\u001b[0;32m<ipython-input-6-3aec06914f5d>\u001b[0m in \u001b[0;36m<module>\u001b[0;34m()\u001b[0m\n\u001b[0;32m----> 1\u001b[0;31m \u001b[0mlgn\u001b[0m\u001b[0;34m.\u001b[0m\u001b[0mc_mat\u001b[0m\u001b[0;34m\u001b[0m\u001b[0m\n\u001b[0m",
        "\u001b[0;31mAttributeError\u001b[0m: 'Lightning' object has no attribute 'c_mat'"
       ]
      }
     ],
     "prompt_number": 6
    },
    {
     "cell_type": "code",
     "collapsed": false,
     "input": [],
     "language": "python",
     "metadata": {},
     "outputs": []
    }
   ],
   "metadata": {}
  }
 ]
}